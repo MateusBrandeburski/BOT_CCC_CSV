{
 "cells": [
  {
   "attachments": {},
   "cell_type": "markdown",
   "metadata": {},
   "source": [
    "O python enxerga o arquivo CSV como sendo uma lista"
   ]
  },
  {
   "cell_type": "code",
   "execution_count": 23,
   "metadata": {},
   "outputs": [
    {
     "name": "stdout",
     "output_type": "stream",
     "text": [
      "7071050000109 SP\n",
      "07966855000110 TO\n"
     ]
    }
   ],
   "source": [
    "import csv\n",
    "\n",
    "with open('csv_teste1.csv', mode='r') as arq:\n",
    "    leitor = csv.reader(arq, delimiter=',')\n",
    "    for coluna in leitor:\n",
    "        cnpj_pesquisa = coluna[0]\n",
    "        uf_pesquisa = coluna[1]\n",
    "        \n",
    "        print(cnpj_pesquisa, uf_pesquisa)"
   ]
  }
 ],
 "metadata": {
  "kernelspec": {
   "display_name": "bot-que-le-csv",
   "language": "python",
   "name": "python3"
  },
  "language_info": {
   "codemirror_mode": {
    "name": "ipython",
    "version": 3
   },
   "file_extension": ".py",
   "mimetype": "text/x-python",
   "name": "python",
   "nbconvert_exporter": "python",
   "pygments_lexer": "ipython3",
   "version": "3.10.6"
  },
  "orig_nbformat": 4,
  "vscode": {
   "interpreter": {
    "hash": "2926691eb9d06aef405ef74f23bb7782a729b35eba401397449c9829dd3d2630"
   }
  }
 },
 "nbformat": 4,
 "nbformat_minor": 2
}
